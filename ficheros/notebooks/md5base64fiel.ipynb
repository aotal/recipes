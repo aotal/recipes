{
 "cells": [
  {
   "cell_type": "code",
   "execution_count": 15,
   "id": "9fcab283-d75c-4a6c-9ead-b6cde42f60d8",
   "metadata": {},
   "outputs": [],
   "source": [
    "import hashlib\n",
    "import base64"
   ]
  },
  {
   "cell_type": "code",
   "execution_count": 18,
   "id": "c5bbda1d-c73e-4672-8c38-0646ea313fa2",
   "metadata": {},
   "outputs": [],
   "source": [
    "def md5(fname):\n",
    "    hash_md5 = hashlib.md5()\n",
    "    with open(fname, \"rb\") as f:\n",
    "        for chunk in iter(lambda: f.read(4096), b\"\"):\n",
    "            hash_md5.update(chunk)\n",
    "    return hash_md5.digest()"
   ]
  },
  {
   "cell_type": "code",
   "execution_count": 19,
   "id": "355ff28e-8066-4e7f-985c-a793143b3928",
   "metadata": {},
   "outputs": [],
   "source": [
    "a=md5('084024-00.part.xml')"
   ]
  },
  {
   "cell_type": "code",
   "execution_count": 20,
   "id": "0e664855-a499-4d01-8998-956fe622345a",
   "metadata": {},
   "outputs": [
    {
     "data": {
      "text/plain": [
       "'9zwGFbc1kyqWIZyImUYd5A=='"
      ]
     },
     "execution_count": 20,
     "metadata": {},
     "output_type": "execute_result"
    }
   ],
   "source": [
    "base64.b64encode(a).decode()"
   ]
  }
 ],
 "metadata": {
  "kernelspec": {
   "display_name": "Python [conda env:root] *",
   "language": "python",
   "name": "conda-root-py"
  },
  "language_info": {
   "codemirror_mode": {
    "name": "ipython",
    "version": 3
   },
   "file_extension": ".py",
   "mimetype": "text/x-python",
   "name": "python",
   "nbconvert_exporter": "python",
   "pygments_lexer": "ipython3",
   "version": "3.9.5"
  }
 },
 "nbformat": 4,
 "nbformat_minor": 5
}
